{
 "cells": [
  {
   "cell_type": "markdown",
   "metadata": {},
   "source": [
    "# Vectorization demonstration"
   ]
  },
  {
   "cell_type": "code",
   "execution_count": 27,
   "metadata": {},
   "outputs": [
    {
     "name": "stdout",
     "output_type": "stream",
     "text": [
      "[1 2 3 4]\n"
     ]
    }
   ],
   "source": [
    "import numpy as np\n",
    "\n",
    "a=np.array([1,2,3,4])\n",
    "print(a)"
   ]
  },
  {
   "cell_type": "markdown",
   "metadata": {},
   "source": [
    "The following code computes the average computational time of a vectorized dot product and a non-vectorized (for looped) dot product. The vectorized version (for my machine) is around 415 times faster than the non-vectorized version."
   ]
  },
  {
   "cell_type": "code",
   "execution_count": 30,
   "metadata": {},
   "outputs": [
    {
     "name": "stdout",
     "output_type": "stream",
     "text": [
      "Vectorized version:  1.496124267578125ms\n",
      "250208.29540041627\n",
      "For loop:  624.4699716567993ms\n",
      "250208.2954004224\n"
     ]
    }
   ],
   "source": [
    "import time\n",
    "\n",
    "a=np.random.rand(1000000)\n",
    "b=np.random.rand(1000000)\n",
    "\n",
    "tot=0\n",
    "loops=10\n",
    "for i in range(loops):\n",
    "    tic=time.time()\n",
    "    c=np.dot(a,b)\n",
    "    toc=time.time()\n",
    "    tot=tot+(toc-tic)\n",
    "tot=tot/loops\n",
    "print(\"Vectorized version: \", str(1000*tot)+ \"ms\")\n",
    "print(c)\n",
    "\n",
    "tot=0\n",
    "for k in range(loops):\n",
    "    c=0\n",
    "    tic=time.time()\n",
    "    for i in range(1000000):\n",
    "        c+=a[i]*b[i]\n",
    "    toc=time.time()\n",
    "    tot+=(toc-tic)\n",
    "tot/=loops\n",
    "\n",
    "print(\"For loop: \", str(1000*tot)+\"ms\")\n",
    "print(c)"
   ]
  },
  {
   "cell_type": "code",
   "execution_count": null,
   "metadata": {},
   "outputs": [],
   "source": []
  }
 ],
 "metadata": {
  "kernelspec": {
   "display_name": "Python 3",
   "language": "python",
   "name": "python3"
  },
  "language_info": {
   "codemirror_mode": {
    "name": "ipython",
    "version": 3
   },
   "file_extension": ".py",
   "mimetype": "text/x-python",
   "name": "python",
   "nbconvert_exporter": "python",
   "pygments_lexer": "ipython3",
   "version": "3.8.5"
  }
 },
 "nbformat": 4,
 "nbformat_minor": 4
}
